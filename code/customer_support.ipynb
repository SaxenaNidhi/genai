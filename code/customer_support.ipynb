{
 "cells": [
  {
   "cell_type": "code",
   "execution_count": 3,
   "id": "6e37571f",
   "metadata": {},
   "outputs": [
    {
     "name": "stdout",
     "output_type": "stream",
     "text": [
      "all ok\n"
     ]
    }
   ],
   "source": [
    "print(\"all ok\")"
   ]
  },
  {
   "cell_type": "code",
   "execution_count": 4,
   "id": "ac8daacf",
   "metadata": {},
   "outputs": [],
   "source": [
    "import os\n",
    "from dotenv import load_dotenv"
   ]
  },
  {
   "cell_type": "code",
   "execution_count": 5,
   "id": "26d57a39",
   "metadata": {},
   "outputs": [],
   "source": [
    "os.environ[\"HUGGING_FACE_KEY\"]=os.getenv(\"HUGGING_FACE_KEY\")"
   ]
  },
  {
   "cell_type": "code",
   "execution_count": 6,
   "id": "2cfbd6ea",
   "metadata": {},
   "outputs": [],
   "source": [
    "### Embeddings\n",
    "from langchain_huggingface import HuggingFaceEmbeddings\n",
    "embeddings=HuggingFaceEmbeddings(model_name=\"all-MiniLM-l6-v2\")"
   ]
  },
  {
   "cell_type": "code",
   "execution_count": 7,
   "id": "f3f26f37",
   "metadata": {},
   "outputs": [],
   "source": [
    "### Index\n",
    "import faiss\n",
    "from langchain_community.vectorstores import FAISS\n",
    "from langchain_community.docstore.in_memory import InMemoryDocstore\n",
    "index=faiss.IndexFlatL2(384)"
   ]
  },
  {
   "cell_type": "code",
   "execution_count": 8,
   "id": "a857c354",
   "metadata": {},
   "outputs": [],
   "source": [
    "### Vectore store\n",
    "vector_store= FAISS(\n",
    "    embedding_function=embeddings,\n",
    "    index=index,\n",
    "    docstore=InMemoryDocstore(),\n",
    "    index_to_docstore_id={}\n",
    ")"
   ]
  },
  {
   "cell_type": "code",
   "execution_count": 9,
   "id": "0df6b8b0",
   "metadata": {},
   "outputs": [],
   "source": [
    "doucments=[\"You can reset your password by clicking 'Forgot Password' on the login page.\",\n",
    "    \"Our return policy allows returns within 30 days of purchase with a receipt.\",\n",
    "    \"Shipping typically takes 3-5 business days for domestic orders.\"]"
   ]
  },
  {
   "cell_type": "code",
   "execution_count": 10,
   "id": "982db5f4",
   "metadata": {},
   "outputs": [
    {
     "data": {
      "text/plain": [
       "['d94eb7c8-3324-4f51-ae91-a766ce1d90a3',\n",
       " '82f58c95-f5cb-482a-b820-e8f5f9a8180c',\n",
       " 'ce6edd83-e436-4c75-b988-7fffa13acad3']"
      ]
     },
     "execution_count": 10,
     "metadata": {},
     "output_type": "execute_result"
    }
   ],
   "source": [
    "vector_store.add_texts(doucments)"
   ]
  },
  {
   "cell_type": "code",
   "execution_count": 11,
   "id": "0c792d8b",
   "metadata": {},
   "outputs": [],
   "source": [
    "### Retriever\n",
    "retriever=vector_store.as_retriever(search_kwargs={\"k\":3})"
   ]
  },
  {
   "cell_type": "code",
   "execution_count": 12,
   "id": "1120f9b7",
   "metadata": {},
   "outputs": [],
   "source": [
    "### LLM\n",
    "from langchain_google_genai import ChatGoogleGenerativeAI\n",
    "model=ChatGoogleGenerativeAI(model=\"gemini-1.5-flash\")"
   ]
  },
  {
   "cell_type": "code",
   "execution_count": 13,
   "id": "42dfafac",
   "metadata": {},
   "outputs": [],
   "source": [
    "### output parser\n",
    "from langchain_core.output_parsers import StrOutputParser\n",
    "outputParser =StrOutputParser()"
   ]
  },
  {
   "cell_type": "code",
   "execution_count": 14,
   "id": "10e0d3fe",
   "metadata": {},
   "outputs": [],
   "source": [
    "from typing import TypedDict, Annotated, Sequence\n",
    "import operator\n",
    "from langchain_core.messages import BaseMessage\n",
    "class AgentState(TypedDict):\n",
    "    messages: Annotated[Sequence[BaseMessage], operator.add]"
   ]
  },
  {
   "cell_type": "code",
   "execution_count": 15,
   "id": "ef0827b5",
   "metadata": {},
   "outputs": [],
   "source": [
    "### toxicity validation\n",
    "from transformers import AutoTokenizer, AutoModelForSequenceClassification\n",
    "import torch\n",
    "\n",
    "toxic_model_name = \"toxic_bert_finetuned\"\n",
    "tokenizer = AutoTokenizer.from_pretrained(toxic_model_name)\n",
    "toxic_model = AutoModelForSequenceClassification.from_pretrained(toxic_model_name)\n",
    "\n",
    "def is_toxic(text):\n",
    "    inputs = tokenizer(text, return_tensors=\"pt\", truncation=True)\n",
    "    with torch.no_grad():\n",
    "        outputs = toxic_model(**inputs)\n",
    "        scores = torch.sigmoid(outputs.logits)[0].numpy()\n",
    "    labels = [\"toxic\", \"severe_toxic\", \"obscene\", \"threat\", \"insult\", \"identity_hate\"]\n",
    "    result = dict(zip(labels, scores))\n",
    "    toxic_score = result[\"toxic\"]\n",
    "    return toxic_score > 0.5  # threshold on toxicity scores"
   ]
  },
  {
   "cell_type": "code",
   "execution_count": 16,
   "id": "d083a48e",
   "metadata": {},
   "outputs": [],
   "source": [
    "#### PROMPT template and RAG chain\n",
    "from langchain_core.runnables import RunnablePassthrough\n",
    "from langchain.prompts import PromptTemplate\n",
    "def function_1(state:AgentState):\n",
    "    \n",
    "    question=state[\"messages\"][-1]\n",
    "    print(\"-> RAG Call question->\"+question)\n",
    "    \n",
    "    prompt=PromptTemplate(\n",
    "        template=\"\"\"\n",
    "        You are a helpful customer support assistant. Use only the provided context to answer. \n",
    "        If you don't know the answer, say: 'Please connect with a support agent.'\n",
    "\n",
    "        Context:\n",
    "        {context}\n",
    "\n",
    "        Question:\n",
    "        {question}\n",
    "        \"\"\",\n",
    "\n",
    "        input_variables=['context', 'question']\n",
    "    )\n",
    "    \n",
    "    rag_chain = (\n",
    "        {\"context\": retriever, \"question\": RunnablePassthrough()}\n",
    "        | prompt\n",
    "        | model\n",
    "        | StrOutputParser()\n",
    "    )\n",
    "\n",
    "    user_question = state[\"messages\"][-1]\n",
    "    if user_question.lower() in [\"quit\", \"exit\"]:\n",
    "        return print(\"Bye\")\n",
    "    if is_toxic(user_question):\n",
    "        print(\"AI Assistant: I'm here to help with respectful communication. Please rephrase your question politely.\")\n",
    "    else:\n",
    "        result = rag_chain.invoke(question)\n",
    "        return {\"messages\": [result]}"
   ]
  },
  {
   "cell_type": "code",
   "execution_count": 17,
   "id": "58d49350",
   "metadata": {},
   "outputs": [],
   "source": [
    "state={\"messages\":[\"i forgot my password.please help\"]}"
   ]
  },
  {
   "cell_type": "code",
   "execution_count": 18,
   "id": "bd1b358b",
   "metadata": {},
   "outputs": [
    {
     "name": "stdout",
     "output_type": "stream",
     "text": [
      "-> RAG Call question->i forgot my password.please help\n",
      "AI Assistant: I'm here to help with respectful communication. Please rephrase your question politely.\n"
     ]
    }
   ],
   "source": [
    "function_1(state)"
   ]
  },
  {
   "cell_type": "code",
   "execution_count": 19,
   "id": "438334a4",
   "metadata": {},
   "outputs": [],
   "source": [
    "state={\"messages\":[\"you are so useless.\"]}"
   ]
  },
  {
   "cell_type": "code",
   "execution_count": 20,
   "id": "3b10003d",
   "metadata": {},
   "outputs": [
    {
     "name": "stdout",
     "output_type": "stream",
     "text": [
      "-> RAG Call question->you are so useless.\n",
      "AI Assistant: I'm here to help with respectful communication. Please rephrase your question politely.\n"
     ]
    }
   ],
   "source": [
    "function_1(state)"
   ]
  },
  {
   "cell_type": "code",
   "execution_count": null,
   "id": "7ca9c50e",
   "metadata": {},
   "outputs": [],
   "source": []
  }
 ],
 "metadata": {
  "kernelspec": {
   "display_name": "Python 3",
   "language": "python",
   "name": "python3"
  },
  "language_info": {
   "codemirror_mode": {
    "name": "ipython",
    "version": 3
   },
   "file_extension": ".py",
   "mimetype": "text/x-python",
   "name": "python",
   "nbconvert_exporter": "python",
   "pygments_lexer": "ipython3",
   "version": "3.11.13"
  }
 },
 "nbformat": 4,
 "nbformat_minor": 5
}
